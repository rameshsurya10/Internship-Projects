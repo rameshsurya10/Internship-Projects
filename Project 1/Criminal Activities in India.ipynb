{
 "cells": [
  {
   "cell_type": "code",
   "execution_count": 2,
   "id": "d5f948d7",
   "metadata": {},
   "outputs": [],
   "source": [
    "import pandas as pd\n",
    "import numpy as np"
   ]
  },
  {
   "cell_type": "markdown",
   "id": "614761fc",
   "metadata": {},
   "source": [
    "### Data Loading"
   ]
  },
  {
   "cell_type": "code",
   "execution_count": 3,
   "id": "4c9c0ab7",
   "metadata": {},
   "outputs": [
    {
     "data": {
      "text/html": [
       "<div>\n",
       "<style scoped>\n",
       "    .dataframe tbody tr th:only-of-type {\n",
       "        vertical-align: middle;\n",
       "    }\n",
       "\n",
       "    .dataframe tbody tr th {\n",
       "        vertical-align: top;\n",
       "    }\n",
       "\n",
       "    .dataframe thead th {\n",
       "        text-align: right;\n",
       "    }\n",
       "</style>\n",
       "<table border=\"1\" class=\"dataframe\">\n",
       "  <thead>\n",
       "    <tr style=\"text-align: right;\">\n",
       "      <th></th>\n",
       "      <th>S.No</th>\n",
       "      <th>State/UT</th>\n",
       "      <th>Name</th>\n",
       "      <th>2019</th>\n",
       "      <th>2020</th>\n",
       "      <th>2021</th>\n",
       "      <th>midPopulation</th>\n",
       "      <th>RateofCrimeAgainstChildren</th>\n",
       "      <th>ChargesSheetingRate</th>\n",
       "    </tr>\n",
       "  </thead>\n",
       "  <tbody>\n",
       "    <tr>\n",
       "      <th>0</th>\n",
       "      <td>1</td>\n",
       "      <td>State</td>\n",
       "      <td>Andhra Pradesh</td>\n",
       "      <td>2524</td>\n",
       "      <td>2648</td>\n",
       "      <td>2669</td>\n",
       "      <td>151.1</td>\n",
       "      <td>17.7</td>\n",
       "      <td>93.2</td>\n",
       "    </tr>\n",
       "    <tr>\n",
       "      <th>1</th>\n",
       "      <td>2</td>\n",
       "      <td>State</td>\n",
       "      <td>Arunachal Pradesh</td>\n",
       "      <td>153</td>\n",
       "      <td>113</td>\n",
       "      <td>162</td>\n",
       "      <td>5.9</td>\n",
       "      <td>27.5</td>\n",
       "      <td>69.6</td>\n",
       "    </tr>\n",
       "    <tr>\n",
       "      <th>2</th>\n",
       "      <td>3</td>\n",
       "      <td>State</td>\n",
       "      <td>Assam</td>\n",
       "      <td>6608</td>\n",
       "      <td>4622</td>\n",
       "      <td>5282</td>\n",
       "      <td>120.8</td>\n",
       "      <td>43.7</td>\n",
       "      <td>56.0</td>\n",
       "    </tr>\n",
       "    <tr>\n",
       "      <th>3</th>\n",
       "      <td>4</td>\n",
       "      <td>State</td>\n",
       "      <td>Bihar</td>\n",
       "      <td>9320</td>\n",
       "      <td>6591</td>\n",
       "      <td>6894</td>\n",
       "      <td>475.0</td>\n",
       "      <td>14.5</td>\n",
       "      <td>68.9</td>\n",
       "    </tr>\n",
       "    <tr>\n",
       "      <th>4</th>\n",
       "      <td>5</td>\n",
       "      <td>State</td>\n",
       "      <td>Chhattisgarh</td>\n",
       "      <td>5665</td>\n",
       "      <td>5056</td>\n",
       "      <td>6001</td>\n",
       "      <td>97.5</td>\n",
       "      <td>61.6</td>\n",
       "      <td>70.4</td>\n",
       "    </tr>\n",
       "  </tbody>\n",
       "</table>\n",
       "</div>"
      ],
      "text/plain": [
       "   S.No State/UT               Name  2019  2020  2021  midPopulation  \\\n",
       "0     1    State     Andhra Pradesh  2524  2648  2669          151.1   \n",
       "1     2    State  Arunachal Pradesh   153   113   162            5.9   \n",
       "2     3    State              Assam  6608  4622  5282          120.8   \n",
       "3     4    State              Bihar  9320  6591  6894          475.0   \n",
       "4     5    State       Chhattisgarh  5665  5056  6001           97.5   \n",
       "\n",
       "   RateofCrimeAgainstChildren  ChargesSheetingRate  \n",
       "0                        17.7                 93.2  \n",
       "1                        27.5                 69.6  \n",
       "2                        43.7                 56.0  \n",
       "3                        14.5                 68.9  \n",
       "4                        61.6                 70.4  "
      ]
     },
     "execution_count": 3,
     "metadata": {},
     "output_type": "execute_result"
    }
   ],
   "source": [
    "Cwc_dt = pd.read_csv('Criminal Activities in India\\crime_women_children\\crime_against_children_(State-UT-wise)_2019-2021.csv')\n",
    "Cwc_dt.head()"
   ]
  },
  {
   "cell_type": "code",
   "execution_count": 4,
   "id": "6f83fcd5",
   "metadata": {},
   "outputs": [
    {
     "data": {
      "text/html": [
       "<div>\n",
       "<style scoped>\n",
       "    .dataframe tbody tr th:only-of-type {\n",
       "        vertical-align: middle;\n",
       "    }\n",
       "\n",
       "    .dataframe tbody tr th {\n",
       "        vertical-align: top;\n",
       "    }\n",
       "\n",
       "    .dataframe thead th {\n",
       "        text-align: right;\n",
       "    }\n",
       "</style>\n",
       "<table border=\"1\" class=\"dataframe\">\n",
       "  <thead>\n",
       "    <tr style=\"text-align: right;\">\n",
       "      <th></th>\n",
       "      <th>S.No</th>\n",
       "      <th>State/UT</th>\n",
       "      <th>Name</th>\n",
       "      <th>2019</th>\n",
       "      <th>2020</th>\n",
       "      <th>2021</th>\n",
       "      <th>midPopulation</th>\n",
       "      <th>RateofCrimeAgainstWomen</th>\n",
       "      <th>ChargesSheetingRate</th>\n",
       "    </tr>\n",
       "  </thead>\n",
       "  <tbody>\n",
       "    <tr>\n",
       "      <th>0</th>\n",
       "      <td>1</td>\n",
       "      <td>State</td>\n",
       "      <td>Andhra Pradesh</td>\n",
       "      <td>17746</td>\n",
       "      <td>17089</td>\n",
       "      <td>17752</td>\n",
       "      <td>264.2</td>\n",
       "      <td>67.2</td>\n",
       "      <td>93.5</td>\n",
       "    </tr>\n",
       "    <tr>\n",
       "      <th>1</th>\n",
       "      <td>2</td>\n",
       "      <td>State</td>\n",
       "      <td>Arunachal Pradesh</td>\n",
       "      <td>317</td>\n",
       "      <td>281</td>\n",
       "      <td>366</td>\n",
       "      <td>7.5</td>\n",
       "      <td>49.1</td>\n",
       "      <td>77.6</td>\n",
       "    </tr>\n",
       "    <tr>\n",
       "      <th>2</th>\n",
       "      <td>3</td>\n",
       "      <td>State</td>\n",
       "      <td>Assam</td>\n",
       "      <td>30025</td>\n",
       "      <td>26352</td>\n",
       "      <td>29046</td>\n",
       "      <td>172.6</td>\n",
       "      <td>168.3</td>\n",
       "      <td>52.9</td>\n",
       "    </tr>\n",
       "    <tr>\n",
       "      <th>3</th>\n",
       "      <td>4</td>\n",
       "      <td>State</td>\n",
       "      <td>Bihar</td>\n",
       "      <td>18587</td>\n",
       "      <td>15359</td>\n",
       "      <td>17950</td>\n",
       "      <td>593.7</td>\n",
       "      <td>30.2</td>\n",
       "      <td>69.4</td>\n",
       "    </tr>\n",
       "    <tr>\n",
       "      <th>4</th>\n",
       "      <td>5</td>\n",
       "      <td>State</td>\n",
       "      <td>Chhattisgarh</td>\n",
       "      <td>7689</td>\n",
       "      <td>7385</td>\n",
       "      <td>7344</td>\n",
       "      <td>147.6</td>\n",
       "      <td>49.8</td>\n",
       "      <td>88.5</td>\n",
       "    </tr>\n",
       "  </tbody>\n",
       "</table>\n",
       "</div>"
      ],
      "text/plain": [
       "   S.No State/UT               Name   2019   2020   2021  midPopulation  \\\n",
       "0     1    State     Andhra Pradesh  17746  17089  17752          264.2   \n",
       "1     2    State  Arunachal Pradesh    317    281    366            7.5   \n",
       "2     3    State              Assam  30025  26352  29046          172.6   \n",
       "3     4    State              Bihar  18587  15359  17950          593.7   \n",
       "4     5    State       Chhattisgarh   7689   7385   7344          147.6   \n",
       "\n",
       "   RateofCrimeAgainstWomen  ChargesSheetingRate  \n",
       "0                     67.2                 93.5  \n",
       "1                     49.1                 77.6  \n",
       "2                    168.3                 52.9  \n",
       "3                     30.2                 69.4  \n",
       "4                     49.8                 88.5  "
      ]
     },
     "execution_count": 4,
     "metadata": {},
     "output_type": "execute_result"
    }
   ],
   "source": [
    "Cwc_dt_1 = pd.read_csv('Criminal Activities in India\\crime_women_children\\crime_against_women_(State-UT-wise)_2019-2021.csv')\n",
    "Cwc_dt_1.head()"
   ]
  },
  {
   "cell_type": "code",
   "execution_count": 5,
   "id": "775ce881",
   "metadata": {},
   "outputs": [
    {
     "data": {
      "text/html": [
       "<div>\n",
       "<style scoped>\n",
       "    .dataframe tbody tr th:only-of-type {\n",
       "        vertical-align: middle;\n",
       "    }\n",
       "\n",
       "    .dataframe tbody tr th {\n",
       "        vertical-align: top;\n",
       "    }\n",
       "\n",
       "    .dataframe thead th {\n",
       "        text-align: right;\n",
       "    }\n",
       "</style>\n",
       "<table border=\"1\" class=\"dataframe\">\n",
       "  <thead>\n",
       "    <tr style=\"text-align: right;\">\n",
       "      <th></th>\n",
       "      <th>S.No</th>\n",
       "      <th>State/UT</th>\n",
       "      <th>Name</th>\n",
       "      <th>2019</th>\n",
       "      <th>2020</th>\n",
       "      <th>2021</th>\n",
       "      <th>midPopulation</th>\n",
       "      <th>RateofMurder</th>\n",
       "      <th>ChargesSheetingRate</th>\n",
       "    </tr>\n",
       "  </thead>\n",
       "  <tbody>\n",
       "    <tr>\n",
       "      <th>0</th>\n",
       "      <td>1</td>\n",
       "      <td>State</td>\n",
       "      <td>Andhra Pradesh</td>\n",
       "      <td>870</td>\n",
       "      <td>853</td>\n",
       "      <td>956</td>\n",
       "      <td>528.5</td>\n",
       "      <td>1.8</td>\n",
       "      <td>91.7</td>\n",
       "    </tr>\n",
       "    <tr>\n",
       "      <th>1</th>\n",
       "      <td>2</td>\n",
       "      <td>State</td>\n",
       "      <td>Arunachal Pradesh</td>\n",
       "      <td>60</td>\n",
       "      <td>45</td>\n",
       "      <td>49</td>\n",
       "      <td>15.4</td>\n",
       "      <td>3.2</td>\n",
       "      <td>78.9</td>\n",
       "    </tr>\n",
       "    <tr>\n",
       "      <th>2</th>\n",
       "      <td>3</td>\n",
       "      <td>State</td>\n",
       "      <td>Assam</td>\n",
       "      <td>1235</td>\n",
       "      <td>1131</td>\n",
       "      <td>1192</td>\n",
       "      <td>351.6</td>\n",
       "      <td>3.4</td>\n",
       "      <td>46.8</td>\n",
       "    </tr>\n",
       "    <tr>\n",
       "      <th>3</th>\n",
       "      <td>4</td>\n",
       "      <td>State</td>\n",
       "      <td>Bihar</td>\n",
       "      <td>3138</td>\n",
       "      <td>3150</td>\n",
       "      <td>2799</td>\n",
       "      <td>1237.0</td>\n",
       "      <td>2.3</td>\n",
       "      <td>90.0</td>\n",
       "    </tr>\n",
       "    <tr>\n",
       "      <th>4</th>\n",
       "      <td>5</td>\n",
       "      <td>State</td>\n",
       "      <td>Chhattisgarh</td>\n",
       "      <td>913</td>\n",
       "      <td>972</td>\n",
       "      <td>1007</td>\n",
       "      <td>296.1</td>\n",
       "      <td>3.4</td>\n",
       "      <td>92.4</td>\n",
       "    </tr>\n",
       "  </tbody>\n",
       "</table>\n",
       "</div>"
      ],
      "text/plain": [
       "   S.No State/UT               Name  2019  2020  2021  midPopulation  \\\n",
       "0     1    State     Andhra Pradesh   870   853   956          528.5   \n",
       "1     2    State  Arunachal Pradesh    60    45    49           15.4   \n",
       "2     3    State              Assam  1235  1131  1192          351.6   \n",
       "3     4    State              Bihar  3138  3150  2799         1237.0   \n",
       "4     5    State       Chhattisgarh   913   972  1007          296.1   \n",
       "\n",
       "   RateofMurder ChargesSheetingRate  \n",
       "0           1.8                91.7  \n",
       "1           3.2                78.9  \n",
       "2           3.4                46.8  \n",
       "3           2.3                90.0  \n",
       "4           3.4                92.4  "
      ]
     },
     "execution_count": 5,
     "metadata": {},
     "output_type": "execute_result"
    }
   ],
   "source": [
    "Mc_dt = pd.read_csv('Criminal Activities in India\\murder_cases\\murder_cases_(State-UT-wise)_2019-2021.csv')\n",
    "Mc_dt.head()"
   ]
  },
  {
   "cell_type": "code",
   "execution_count": 6,
   "id": "49830fa6",
   "metadata": {},
   "outputs": [
    {
     "data": {
      "text/html": [
       "<div>\n",
       "<style scoped>\n",
       "    .dataframe tbody tr th:only-of-type {\n",
       "        vertical-align: middle;\n",
       "    }\n",
       "\n",
       "    .dataframe tbody tr th {\n",
       "        vertical-align: top;\n",
       "    }\n",
       "\n",
       "    .dataframe thead th {\n",
       "        text-align: right;\n",
       "    }\n",
       "</style>\n",
       "<table border=\"1\" class=\"dataframe\">\n",
       "  <thead>\n",
       "    <tr style=\"text-align: right;\">\n",
       "      <th></th>\n",
       "      <th>S.No</th>\n",
       "      <th>Name</th>\n",
       "      <th>Male</th>\n",
       "      <th>Female</th>\n",
       "      <th>Trans</th>\n",
       "      <th>Total</th>\n",
       "      <th>Age</th>\n",
       "      <th>Status</th>\n",
       "    </tr>\n",
       "  </thead>\n",
       "  <tbody>\n",
       "    <tr>\n",
       "      <th>0</th>\n",
       "      <td>1</td>\n",
       "      <td>Andhra Pradesh</td>\n",
       "      <td>5</td>\n",
       "      <td>10</td>\n",
       "      <td>0</td>\n",
       "      <td>15</td>\n",
       "      <td>&lt;6</td>\n",
       "      <td>Child</td>\n",
       "    </tr>\n",
       "    <tr>\n",
       "      <th>1</th>\n",
       "      <td>2</td>\n",
       "      <td>Arunachal Pradesh</td>\n",
       "      <td>0</td>\n",
       "      <td>0</td>\n",
       "      <td>0</td>\n",
       "      <td>0</td>\n",
       "      <td>&lt;6</td>\n",
       "      <td>Child</td>\n",
       "    </tr>\n",
       "    <tr>\n",
       "      <th>2</th>\n",
       "      <td>3</td>\n",
       "      <td>Assam</td>\n",
       "      <td>3</td>\n",
       "      <td>2</td>\n",
       "      <td>0</td>\n",
       "      <td>5</td>\n",
       "      <td>&lt;6</td>\n",
       "      <td>Child</td>\n",
       "    </tr>\n",
       "    <tr>\n",
       "      <th>3</th>\n",
       "      <td>4</td>\n",
       "      <td>Bihar</td>\n",
       "      <td>6</td>\n",
       "      <td>3</td>\n",
       "      <td>0</td>\n",
       "      <td>9</td>\n",
       "      <td>&lt;6</td>\n",
       "      <td>Child</td>\n",
       "    </tr>\n",
       "    <tr>\n",
       "      <th>4</th>\n",
       "      <td>5</td>\n",
       "      <td>Chhattisgarh</td>\n",
       "      <td>15</td>\n",
       "      <td>5</td>\n",
       "      <td>0</td>\n",
       "      <td>20</td>\n",
       "      <td>&lt;6</td>\n",
       "      <td>Child</td>\n",
       "    </tr>\n",
       "  </tbody>\n",
       "</table>\n",
       "</div>"
      ],
      "text/plain": [
       "   S.No               Name  Male  Female  Trans  Total Age Status\n",
       "0     1     Andhra Pradesh     5      10      0     15  <6  Child\n",
       "1     2  Arunachal Pradesh     0       0      0      0  <6  Child\n",
       "2     3              Assam     3       2      0      5  <6  Child\n",
       "3     4              Bihar     6       3      0      9  <6  Child\n",
       "4     5       Chhattisgarh    15       5      0     20  <6  Child"
      ]
     },
     "execution_count": 6,
     "metadata": {},
     "output_type": "execute_result"
    }
   ],
   "source": [
    "Mc_dt_1 = pd.read_csv('Criminal Activities in India/murder_cases/victims_of_murder_(Gender_Age_Group-wise)_2021.csv')\n",
    "Mc_dt_1.head()\n"
   ]
  },
  {
   "cell_type": "code",
   "execution_count": 7,
   "id": "869126d6",
   "metadata": {},
   "outputs": [
    {
     "data": {
      "text/html": [
       "<div>\n",
       "<style scoped>\n",
       "    .dataframe tbody tr th:only-of-type {\n",
       "        vertical-align: middle;\n",
       "    }\n",
       "\n",
       "    .dataframe tbody tr th {\n",
       "        vertical-align: top;\n",
       "    }\n",
       "\n",
       "    .dataframe thead th {\n",
       "        text-align: right;\n",
       "    }\n",
       "</style>\n",
       "<table border=\"1\" class=\"dataframe\">\n",
       "  <thead>\n",
       "    <tr style=\"text-align: right;\">\n",
       "      <th></th>\n",
       "      <th>S.No</th>\n",
       "      <th>City</th>\n",
       "      <th>2019</th>\n",
       "      <th>2020</th>\n",
       "      <th>2021</th>\n",
       "      <th>Population</th>\n",
       "      <th>RateofCognizableCrimes</th>\n",
       "      <th>ChargesSheetingRate</th>\n",
       "    </tr>\n",
       "  </thead>\n",
       "  <tbody>\n",
       "    <tr>\n",
       "      <th>0</th>\n",
       "      <td>1</td>\n",
       "      <td>Agra</td>\n",
       "      <td>6510</td>\n",
       "      <td>6285</td>\n",
       "      <td>5665</td>\n",
       "      <td>17.5</td>\n",
       "      <td>324.5</td>\n",
       "      <td>58.0</td>\n",
       "    </tr>\n",
       "    <tr>\n",
       "      <th>1</th>\n",
       "      <td>2</td>\n",
       "      <td>Allahabad</td>\n",
       "      <td>5621</td>\n",
       "      <td>5455</td>\n",
       "      <td>4130</td>\n",
       "      <td>12.2</td>\n",
       "      <td>339.4</td>\n",
       "      <td>68.2</td>\n",
       "    </tr>\n",
       "    <tr>\n",
       "      <th>2</th>\n",
       "      <td>3</td>\n",
       "      <td>Amritsar</td>\n",
       "      <td>2589</td>\n",
       "      <td>3178</td>\n",
       "      <td>3349</td>\n",
       "      <td>11.8</td>\n",
       "      <td>282.9</td>\n",
       "      <td>54.8</td>\n",
       "    </tr>\n",
       "    <tr>\n",
       "      <th>3</th>\n",
       "      <td>4</td>\n",
       "      <td>Asansol</td>\n",
       "      <td>4244</td>\n",
       "      <td>4335</td>\n",
       "      <td>4864</td>\n",
       "      <td>12.4</td>\n",
       "      <td>391.3</td>\n",
       "      <td>95.8</td>\n",
       "    </tr>\n",
       "    <tr>\n",
       "      <th>4</th>\n",
       "      <td>5</td>\n",
       "      <td>Aurangabad</td>\n",
       "      <td>5636</td>\n",
       "      <td>6248</td>\n",
       "      <td>7366</td>\n",
       "      <td>11.9</td>\n",
       "      <td>619.5</td>\n",
       "      <td>82.6</td>\n",
       "    </tr>\n",
       "  </tbody>\n",
       "</table>\n",
       "</div>"
      ],
      "text/plain": [
       "   S.No        City  2019  2020  2021  Population  RateofCognizableCrimes  \\\n",
       "0     1        Agra  6510  6285  5665        17.5                   324.5   \n",
       "1     2   Allahabad  5621  5455  4130        12.2                   339.4   \n",
       "2     3    Amritsar  2589  3178  3349        11.8                   282.9   \n",
       "3     4     Asansol  4244  4335  4864        12.4                   391.3   \n",
       "4     5  Aurangabad  5636  6248  7366        11.9                   619.5   \n",
       "\n",
       "   ChargesSheetingRate  \n",
       "0                 58.0  \n",
       "1                 68.2  \n",
       "2                 54.8  \n",
       "3                 95.8  \n",
       "4                 82.6  "
      ]
     },
     "execution_count": 7,
     "metadata": {},
     "output_type": "execute_result"
    }
   ],
   "source": [
    "Tc_dt = pd.read_csv('Criminal Activities in India/total_crimes/IPC_crimes_(City-wise)_2019-2021.csv')\n",
    "Tc_dt.head()"
   ]
  },
  {
   "cell_type": "code",
   "execution_count": 8,
   "id": "895d258f",
   "metadata": {},
   "outputs": [
    {
     "data": {
      "text/html": [
       "<div>\n",
       "<style scoped>\n",
       "    .dataframe tbody tr th:only-of-type {\n",
       "        vertical-align: middle;\n",
       "    }\n",
       "\n",
       "    .dataframe tbody tr th {\n",
       "        vertical-align: top;\n",
       "    }\n",
       "\n",
       "    .dataframe thead th {\n",
       "        text-align: right;\n",
       "    }\n",
       "</style>\n",
       "<table border=\"1\" class=\"dataframe\">\n",
       "  <thead>\n",
       "    <tr style=\"text-align: right;\">\n",
       "      <th></th>\n",
       "      <th>S.No</th>\n",
       "      <th>State/UT</th>\n",
       "      <th>Name</th>\n",
       "      <th>2019</th>\n",
       "      <th>2020</th>\n",
       "      <th>2021</th>\n",
       "      <th>midPopulation</th>\n",
       "      <th>RateofCognizableCrimes</th>\n",
       "      <th>ChargesSheetingRate</th>\n",
       "    </tr>\n",
       "  </thead>\n",
       "  <tbody>\n",
       "    <tr>\n",
       "      <th>0</th>\n",
       "      <td>1</td>\n",
       "      <td>State</td>\n",
       "      <td>Andhra Pradesh</td>\n",
       "      <td>119229</td>\n",
       "      <td>188997</td>\n",
       "      <td>179611</td>\n",
       "      <td>528.5</td>\n",
       "      <td>339.9</td>\n",
       "      <td>92.9</td>\n",
       "    </tr>\n",
       "    <tr>\n",
       "      <th>1</th>\n",
       "      <td>2</td>\n",
       "      <td>State</td>\n",
       "      <td>Arunachal Pradesh</td>\n",
       "      <td>2590</td>\n",
       "      <td>2244</td>\n",
       "      <td>2626</td>\n",
       "      <td>15.4</td>\n",
       "      <td>170.9</td>\n",
       "      <td>51.7</td>\n",
       "    </tr>\n",
       "    <tr>\n",
       "      <th>2</th>\n",
       "      <td>3</td>\n",
       "      <td>State</td>\n",
       "      <td>Assam</td>\n",
       "      <td>123512</td>\n",
       "      <td>111558</td>\n",
       "      <td>119883</td>\n",
       "      <td>351.6</td>\n",
       "      <td>341.0</td>\n",
       "      <td>38.2</td>\n",
       "    </tr>\n",
       "    <tr>\n",
       "      <th>3</th>\n",
       "      <td>4</td>\n",
       "      <td>State</td>\n",
       "      <td>Bihar</td>\n",
       "      <td>197935</td>\n",
       "      <td>194698</td>\n",
       "      <td>186006</td>\n",
       "      <td>1237.0</td>\n",
       "      <td>150.4</td>\n",
       "      <td>70.5</td>\n",
       "    </tr>\n",
       "    <tr>\n",
       "      <th>4</th>\n",
       "      <td>5</td>\n",
       "      <td>State</td>\n",
       "      <td>Chhattisgarh</td>\n",
       "      <td>61256</td>\n",
       "      <td>65216</td>\n",
       "      <td>70519</td>\n",
       "      <td>296.1</td>\n",
       "      <td>238.2</td>\n",
       "      <td>80.2</td>\n",
       "    </tr>\n",
       "  </tbody>\n",
       "</table>\n",
       "</div>"
      ],
      "text/plain": [
       "   S.No State/UT               Name    2019    2020    2021  midPopulation  \\\n",
       "0     1    State     Andhra Pradesh  119229  188997  179611          528.5   \n",
       "1     2    State  Arunachal Pradesh    2590    2244    2626           15.4   \n",
       "2     3    State              Assam  123512  111558  119883          351.6   \n",
       "3     4    State              Bihar  197935  194698  186006         1237.0   \n",
       "4     5    State       Chhattisgarh   61256   65216   70519          296.1   \n",
       "\n",
       "   RateofCognizableCrimes  ChargesSheetingRate  \n",
       "0                   339.9                 92.9  \n",
       "1                   170.9                 51.7  \n",
       "2                   341.0                 38.2  \n",
       "3                   150.4                 70.5  \n",
       "4                   238.2                 80.2  "
      ]
     },
     "execution_count": 8,
     "metadata": {},
     "output_type": "execute_result"
    }
   ],
   "source": [
    "Tc_dt_1 = pd.read_csv('Criminal Activities in India/total_crimes/IPC_crimes_(State-UT-wise)_2019-2021.csv')\n",
    "Tc_dt_1.head()"
   ]
  },
  {
   "cell_type": "code",
   "execution_count": 9,
   "id": "264dcf8b",
   "metadata": {},
   "outputs": [
    {
     "data": {
      "text/html": [
       "<div>\n",
       "<style scoped>\n",
       "    .dataframe tbody tr th:only-of-type {\n",
       "        vertical-align: middle;\n",
       "    }\n",
       "\n",
       "    .dataframe tbody tr th {\n",
       "        vertical-align: top;\n",
       "    }\n",
       "\n",
       "    .dataframe thead th {\n",
       "        text-align: right;\n",
       "    }\n",
       "</style>\n",
       "<table border=\"1\" class=\"dataframe\">\n",
       "  <thead>\n",
       "    <tr style=\"text-align: right;\">\n",
       "      <th></th>\n",
       "      <th>TypeofComplaints</th>\n",
       "      <th>#ofComplaints</th>\n",
       "      <th>#ofFIRs</th>\n",
       "      <th>#ofOnlineFIRS</th>\n",
       "    </tr>\n",
       "  </thead>\n",
       "  <tbody>\n",
       "    <tr>\n",
       "      <th>0</th>\n",
       "      <td>Oral Complaints</td>\n",
       "      <td>8585351</td>\n",
       "      <td>690094</td>\n",
       "      <td>0</td>\n",
       "    </tr>\n",
       "    <tr>\n",
       "      <th>1</th>\n",
       "      <td>Narrated to O/C / SHO</td>\n",
       "      <td>930369</td>\n",
       "      <td>621456</td>\n",
       "      <td>0</td>\n",
       "    </tr>\n",
       "    <tr>\n",
       "      <th>2</th>\n",
       "      <td>Distress call over phone/Dial 100 etc</td>\n",
       "      <td>7654982</td>\n",
       "      <td>68638</td>\n",
       "      <td>0</td>\n",
       "    </tr>\n",
       "    <tr>\n",
       "      <th>3</th>\n",
       "      <td>Written Complaints</td>\n",
       "      <td>8894954</td>\n",
       "      <td>5220773</td>\n",
       "      <td>185443</td>\n",
       "    </tr>\n",
       "    <tr>\n",
       "      <th>4</th>\n",
       "      <td>To O/C / SHO</td>\n",
       "      <td>4709804</td>\n",
       "      <td>3496161</td>\n",
       "      <td>0</td>\n",
       "    </tr>\n",
       "  </tbody>\n",
       "</table>\n",
       "</div>"
      ],
      "text/plain": [
       "                        TypeofComplaints  #ofComplaints  #ofFIRs  \\\n",
       "0                        Oral Complaints        8585351   690094   \n",
       "1                  Narrated to O/C / SHO         930369   621456   \n",
       "2  Distress call over phone/Dial 100 etc        7654982    68638   \n",
       "3                     Written Complaints        8894954  5220773   \n",
       "4                           To O/C / SHO        4709804  3496161   \n",
       "\n",
       "   #ofOnlineFIRS  \n",
       "0              0  \n",
       "1              0  \n",
       "2              0  \n",
       "3         185443  \n",
       "4              0  "
      ]
     },
     "execution_count": 9,
     "metadata": {},
     "output_type": "execute_result"
    }
   ],
   "source": [
    "Tc_dt_2 = pd.read_csv('Criminal Activities in India/total_crimes/Total_Complaints_Received_2019-2021.csv')\n",
    "Tc_dt_2.head()"
   ]
  },
  {
   "cell_type": "code",
   "execution_count": 10,
   "id": "3f47f5a5",
   "metadata": {},
   "outputs": [
    {
     "data": {
      "text/html": [
       "<div>\n",
       "<style scoped>\n",
       "    .dataframe tbody tr th:only-of-type {\n",
       "        vertical-align: middle;\n",
       "    }\n",
       "\n",
       "    .dataframe tbody tr th {\n",
       "        vertical-align: top;\n",
       "    }\n",
       "\n",
       "    .dataframe thead th {\n",
       "        text-align: right;\n",
       "    }\n",
       "</style>\n",
       "<table border=\"1\" class=\"dataframe\">\n",
       "  <thead>\n",
       "    <tr style=\"text-align: right;\">\n",
       "      <th></th>\n",
       "      <th>S.No</th>\n",
       "      <th>State/UT</th>\n",
       "      <th>Name</th>\n",
       "      <th>2019</th>\n",
       "      <th>2020</th>\n",
       "      <th>2021</th>\n",
       "      <th>midPopulation</th>\n",
       "      <th>RateofKidnappingAbduction</th>\n",
       "      <th>ChargesSheetingRate</th>\n",
       "    </tr>\n",
       "  </thead>\n",
       "  <tbody>\n",
       "    <tr>\n",
       "      <th>0</th>\n",
       "      <td>1</td>\n",
       "      <td>State</td>\n",
       "      <td>Andhra Pradesh</td>\n",
       "      <td>902</td>\n",
       "      <td>737</td>\n",
       "      <td>835</td>\n",
       "      <td>528.5</td>\n",
       "      <td>1.6</td>\n",
       "      <td>71.8</td>\n",
       "    </tr>\n",
       "    <tr>\n",
       "      <th>1</th>\n",
       "      <td>2</td>\n",
       "      <td>State</td>\n",
       "      <td>Arunachal Pradesh</td>\n",
       "      <td>117</td>\n",
       "      <td>78</td>\n",
       "      <td>85</td>\n",
       "      <td>15.4</td>\n",
       "      <td>5.5</td>\n",
       "      <td>37.3</td>\n",
       "    </tr>\n",
       "    <tr>\n",
       "      <th>2</th>\n",
       "      <td>3</td>\n",
       "      <td>State</td>\n",
       "      <td>Assam</td>\n",
       "      <td>9432</td>\n",
       "      <td>6934</td>\n",
       "      <td>7580</td>\n",
       "      <td>351.6</td>\n",
       "      <td>21.6</td>\n",
       "      <td>30.3</td>\n",
       "    </tr>\n",
       "    <tr>\n",
       "      <th>3</th>\n",
       "      <td>4</td>\n",
       "      <td>State</td>\n",
       "      <td>Bihar</td>\n",
       "      <td>10707</td>\n",
       "      <td>7889</td>\n",
       "      <td>10198</td>\n",
       "      <td>1237.0</td>\n",
       "      <td>8.2</td>\n",
       "      <td>53.8</td>\n",
       "    </tr>\n",
       "    <tr>\n",
       "      <th>4</th>\n",
       "      <td>5</td>\n",
       "      <td>State</td>\n",
       "      <td>Chhattisgarh</td>\n",
       "      <td>2638</td>\n",
       "      <td>2008</td>\n",
       "      <td>2681</td>\n",
       "      <td>296.1</td>\n",
       "      <td>9.1</td>\n",
       "      <td>36.7</td>\n",
       "    </tr>\n",
       "  </tbody>\n",
       "</table>\n",
       "</div>"
      ],
      "text/plain": [
       "   S.No State/UT               Name   2019  2020   2021  midPopulation  \\\n",
       "0     1    State     Andhra Pradesh    902   737    835          528.5   \n",
       "1     2    State  Arunachal Pradesh    117    78     85           15.4   \n",
       "2     3    State              Assam   9432  6934   7580          351.6   \n",
       "3     4    State              Bihar  10707  7889  10198         1237.0   \n",
       "4     5    State       Chhattisgarh   2638  2008   2681          296.1   \n",
       "\n",
       "   RateofKidnappingAbduction  ChargesSheetingRate  \n",
       "0                        1.6                 71.8  \n",
       "1                        5.5                 37.3  \n",
       "2                       21.6                 30.3  \n",
       "3                        8.2                 53.8  \n",
       "4                        9.1                 36.7  "
      ]
     },
     "execution_count": 10,
     "metadata": {},
     "output_type": "execute_result"
    }
   ],
   "source": [
    "Vc_dt = pd.read_csv('Criminal Activities in India/violent_crimes/kidnapping_abduction_(State-UT-wise)_2019-2021.csv')\n",
    "Vc_dt.head()"
   ]
  },
  {
   "cell_type": "code",
   "execution_count": 11,
   "id": "ecb1e744",
   "metadata": {},
   "outputs": [
    {
     "data": {
      "text/html": [
       "<div>\n",
       "<style scoped>\n",
       "    .dataframe tbody tr th:only-of-type {\n",
       "        vertical-align: middle;\n",
       "    }\n",
       "\n",
       "    .dataframe tbody tr th {\n",
       "        vertical-align: top;\n",
       "    }\n",
       "\n",
       "    .dataframe thead th {\n",
       "        text-align: right;\n",
       "    }\n",
       "</style>\n",
       "<table border=\"1\" class=\"dataframe\">\n",
       "  <thead>\n",
       "    <tr style=\"text-align: right;\">\n",
       "      <th></th>\n",
       "      <th>S.No</th>\n",
       "      <th>State/UT</th>\n",
       "      <th>Name</th>\n",
       "      <th>2019</th>\n",
       "      <th>2020</th>\n",
       "      <th>2021</th>\n",
       "      <th>midPopulation</th>\n",
       "      <th>RateofViolentCrimes</th>\n",
       "      <th>ChargesSheetingRate</th>\n",
       "    </tr>\n",
       "  </thead>\n",
       "  <tbody>\n",
       "    <tr>\n",
       "      <th>0</th>\n",
       "      <td>1</td>\n",
       "      <td>State</td>\n",
       "      <td>Andhra Pradesh</td>\n",
       "      <td>7670</td>\n",
       "      <td>6683</td>\n",
       "      <td>7215</td>\n",
       "      <td>528.5</td>\n",
       "      <td>13.7</td>\n",
       "      <td>89.1</td>\n",
       "    </tr>\n",
       "    <tr>\n",
       "      <th>1</th>\n",
       "      <td>2</td>\n",
       "      <td>State</td>\n",
       "      <td>Arunachal Pradesh</td>\n",
       "      <td>678</td>\n",
       "      <td>414</td>\n",
       "      <td>492</td>\n",
       "      <td>15.4</td>\n",
       "      <td>32.0</td>\n",
       "      <td>57.7</td>\n",
       "    </tr>\n",
       "    <tr>\n",
       "      <th>2</th>\n",
       "      <td>3</td>\n",
       "      <td>State</td>\n",
       "      <td>Assam</td>\n",
       "      <td>28696</td>\n",
       "      <td>25629</td>\n",
       "      <td>26933</td>\n",
       "      <td>351.6</td>\n",
       "      <td>76.6</td>\n",
       "      <td>42.4</td>\n",
       "    </tr>\n",
       "    <tr>\n",
       "      <th>3</th>\n",
       "      <td>4</td>\n",
       "      <td>State</td>\n",
       "      <td>Bihar</td>\n",
       "      <td>45004</td>\n",
       "      <td>51116</td>\n",
       "      <td>43780</td>\n",
       "      <td>1237.0</td>\n",
       "      <td>35.4</td>\n",
       "      <td>78.1</td>\n",
       "    </tr>\n",
       "    <tr>\n",
       "      <th>4</th>\n",
       "      <td>5</td>\n",
       "      <td>State</td>\n",
       "      <td>Chhattisgarh</td>\n",
       "      <td>7823</td>\n",
       "      <td>8033</td>\n",
       "      <td>8458</td>\n",
       "      <td>296.1</td>\n",
       "      <td>28.6</td>\n",
       "      <td>76.0</td>\n",
       "    </tr>\n",
       "  </tbody>\n",
       "</table>\n",
       "</div>"
      ],
      "text/plain": [
       "   S.No State/UT               Name   2019   2020   2021  midPopulation  \\\n",
       "0     1    State     Andhra Pradesh   7670   6683   7215          528.5   \n",
       "1     2    State  Arunachal Pradesh    678    414    492           15.4   \n",
       "2     3    State              Assam  28696  25629  26933          351.6   \n",
       "3     4    State              Bihar  45004  51116  43780         1237.0   \n",
       "4     5    State       Chhattisgarh   7823   8033   8458          296.1   \n",
       "\n",
       "   RateofViolentCrimes  ChargesSheetingRate  \n",
       "0                 13.7                 89.1  \n",
       "1                 32.0                 57.7  \n",
       "2                 76.6                 42.4  \n",
       "3                 35.4                 78.1  \n",
       "4                 28.6                 76.0  "
      ]
     },
     "execution_count": 11,
     "metadata": {},
     "output_type": "execute_result"
    }
   ],
   "source": [
    "Vc_dt_1 = pd.read_csv('Criminal Activities in India/violent_crimes/violent_crimes_(State-UT-wise)_2021.csv')\n",
    "Vc_dt_1.head()"
   ]
  },
  {
   "cell_type": "markdown",
   "id": "48eeeb38",
   "metadata": {},
   "source": [
    " ### Find and Replace Null Values"
   ]
  },
  {
   "cell_type": "code",
   "execution_count": 12,
   "id": "16e2f25c",
   "metadata": {},
   "outputs": [
    {
     "data": {
      "text/plain": [
       "S.No                          0\n",
       "State/UT                      0\n",
       "Name                          0\n",
       "2019                          0\n",
       "2020                          0\n",
       "2021                          0\n",
       "midPopulation                 0\n",
       "RateofCrimeAgainstChildren    0\n",
       "ChargesSheetingRate           0\n",
       "dtype: int64"
      ]
     },
     "execution_count": 12,
     "metadata": {},
     "output_type": "execute_result"
    }
   ],
   "source": [
    "Cwc_dt.isna().sum()"
   ]
  },
  {
   "cell_type": "code",
   "execution_count": 13,
   "id": "c1b14709",
   "metadata": {},
   "outputs": [
    {
     "data": {
      "text/plain": [
       "S.No                       0\n",
       "State/UT                   0\n",
       "Name                       0\n",
       "2019                       0\n",
       "2020                       0\n",
       "2021                       0\n",
       "midPopulation              0\n",
       "RateofCrimeAgainstWomen    0\n",
       "ChargesSheetingRate        0\n",
       "dtype: int64"
      ]
     },
     "execution_count": 13,
     "metadata": {},
     "output_type": "execute_result"
    }
   ],
   "source": [
    "Cwc_dt_1.isna().sum()"
   ]
  },
  {
   "cell_type": "code",
   "execution_count": 14,
   "id": "436e0bd9",
   "metadata": {},
   "outputs": [
    {
     "data": {
      "text/plain": [
       "S.No                   0\n",
       "State/UT               0\n",
       "Name                   0\n",
       "2019                   0\n",
       "2020                   0\n",
       "2021                   0\n",
       "midPopulation          0\n",
       "RateofMurder           0\n",
       "ChargesSheetingRate    0\n",
       "dtype: int64"
      ]
     },
     "execution_count": 14,
     "metadata": {},
     "output_type": "execute_result"
    }
   ],
   "source": [
    "Mc_dt.isna().sum()"
   ]
  },
  {
   "cell_type": "code",
   "execution_count": 15,
   "id": "37afde80",
   "metadata": {},
   "outputs": [
    {
     "data": {
      "text/plain": [
       "S.No      0\n",
       "Name      0\n",
       "Male      0\n",
       "Female    0\n",
       "Trans     0\n",
       "Total     0\n",
       "Age       0\n",
       "Status    0\n",
       "dtype: int64"
      ]
     },
     "execution_count": 15,
     "metadata": {},
     "output_type": "execute_result"
    }
   ],
   "source": [
    "Mc_dt_1.isna().sum()"
   ]
  },
  {
   "cell_type": "code",
   "execution_count": 16,
   "id": "6dbc5d54",
   "metadata": {},
   "outputs": [
    {
     "data": {
      "text/plain": [
       "S.No                      0\n",
       "City                      0\n",
       "2019                      0\n",
       "2020                      0\n",
       "2021                      0\n",
       "Population                0\n",
       "RateofCognizableCrimes    0\n",
       "ChargesSheetingRate       0\n",
       "dtype: int64"
      ]
     },
     "execution_count": 16,
     "metadata": {},
     "output_type": "execute_result"
    }
   ],
   "source": [
    "Tc_dt.isna().sum()"
   ]
  },
  {
   "cell_type": "code",
   "execution_count": 17,
   "id": "8c15e410",
   "metadata": {},
   "outputs": [
    {
     "data": {
      "text/plain": [
       "S.No                      0\n",
       "State/UT                  0\n",
       "Name                      0\n",
       "2019                      0\n",
       "2020                      0\n",
       "2021                      0\n",
       "midPopulation             0\n",
       "RateofCognizableCrimes    0\n",
       "ChargesSheetingRate       0\n",
       "dtype: int64"
      ]
     },
     "execution_count": 17,
     "metadata": {},
     "output_type": "execute_result"
    }
   ],
   "source": [
    "Tc_dt_1.isna().sum()"
   ]
  },
  {
   "cell_type": "code",
   "execution_count": 25,
   "id": "25ab1778",
   "metadata": {},
   "outputs": [
    {
     "data": {
      "text/plain": [
       "TypeofComplaints    0\n",
       "#ofComplaints       0\n",
       "#ofFIRs             0\n",
       "#ofOnlineFIRS       0\n",
       "dtype: int64"
      ]
     },
     "execution_count": 25,
     "metadata": {},
     "output_type": "execute_result"
    }
   ],
   "source": [
    "Tc_dt_2.isnull().sum()"
   ]
  },
  {
   "cell_type": "code",
   "execution_count": 23,
   "id": "04fb6dba",
   "metadata": {},
   "outputs": [
    {
     "data": {
      "text/plain": [
       "S.No                         0\n",
       "State/UT                     0\n",
       "Name                         0\n",
       "2019                         0\n",
       "2020                         0\n",
       "2021                         0\n",
       "midPopulation                0\n",
       "RateofKidnappingAbduction    0\n",
       "ChargesSheetingRate          0\n",
       "dtype: int64"
      ]
     },
     "execution_count": 23,
     "metadata": {},
     "output_type": "execute_result"
    }
   ],
   "source": [
    "Vc_dt.isnull().sum()"
   ]
  },
  {
   "cell_type": "code",
   "execution_count": 24,
   "id": "33bcfba6",
   "metadata": {},
   "outputs": [
    {
     "data": {
      "text/plain": [
       "S.No                   0\n",
       "State/UT               0\n",
       "Name                   0\n",
       "2019                   0\n",
       "2020                   0\n",
       "2021                   0\n",
       "midPopulation          0\n",
       "RateofViolentCrimes    0\n",
       "ChargesSheetingRate    0\n",
       "dtype: int64"
      ]
     },
     "execution_count": 24,
     "metadata": {},
     "output_type": "execute_result"
    }
   ],
   "source": [
    "Vc_dt_1.isnull().sum()"
   ]
  },
  {
   "cell_type": "code",
   "execution_count": 28,
   "id": "ee0cf76f",
   "metadata": {},
   "outputs": [
    {
     "data": {
      "text/plain": [
       "0"
      ]
     },
     "execution_count": 28,
     "metadata": {},
     "output_type": "execute_result"
    }
   ],
   "source": [
    "Cwc_dt.duplicated().sum()"
   ]
  },
  {
   "cell_type": "code",
   "execution_count": 27,
   "id": "20b5aeed",
   "metadata": {},
   "outputs": [
    {
     "data": {
      "text/plain": [
       "0"
      ]
     },
     "execution_count": 27,
     "metadata": {},
     "output_type": "execute_result"
    }
   ],
   "source": [
    "Cwc_dt_1.duplicated().sum()"
   ]
  },
  {
   "cell_type": "code",
   "execution_count": 29,
   "id": "879faf8f",
   "metadata": {},
   "outputs": [
    {
     "data": {
      "text/plain": [
       "0"
      ]
     },
     "execution_count": 29,
     "metadata": {},
     "output_type": "execute_result"
    }
   ],
   "source": [
    "Mc_dt.duplicated().sum()"
   ]
  },
  {
   "cell_type": "code",
   "execution_count": 30,
   "id": "099e4d36",
   "metadata": {},
   "outputs": [
    {
     "data": {
      "text/plain": [
       "0"
      ]
     },
     "execution_count": 30,
     "metadata": {},
     "output_type": "execute_result"
    }
   ],
   "source": [
    "Mc_dt_1.duplicated().sum()"
   ]
  },
  {
   "cell_type": "code",
   "execution_count": 31,
   "id": "a0e2dac2",
   "metadata": {},
   "outputs": [
    {
     "data": {
      "text/plain": [
       "0"
      ]
     },
     "execution_count": 31,
     "metadata": {},
     "output_type": "execute_result"
    }
   ],
   "source": [
    "Vc_dt.duplicated().sum()"
   ]
  },
  {
   "cell_type": "code",
   "execution_count": 32,
   "id": "dfa38b3a",
   "metadata": {},
   "outputs": [
    {
     "data": {
      "text/plain": [
       "0"
      ]
     },
     "execution_count": 32,
     "metadata": {},
     "output_type": "execute_result"
    }
   ],
   "source": [
    "Vc_dt_1.duplicated().sum()"
   ]
  },
  {
   "cell_type": "code",
   "execution_count": 34,
   "id": "73788fdc",
   "metadata": {},
   "outputs": [
    {
     "data": {
      "text/plain": [
       "0"
      ]
     },
     "execution_count": 34,
     "metadata": {},
     "output_type": "execute_result"
    }
   ],
   "source": [
    " Tc_dt.duplicated().sum()"
   ]
  },
  {
   "cell_type": "code",
   "execution_count": 35,
   "id": "b9754173",
   "metadata": {},
   "outputs": [
    {
     "data": {
      "text/plain": [
       "0"
      ]
     },
     "execution_count": 35,
     "metadata": {},
     "output_type": "execute_result"
    }
   ],
   "source": [
    "Tc_dt_1.duplicated().sum()"
   ]
  },
  {
   "cell_type": "code",
   "execution_count": 36,
   "id": "587eaf81",
   "metadata": {},
   "outputs": [
    {
     "data": {
      "text/plain": [
       "0"
      ]
     },
     "execution_count": 36,
     "metadata": {},
     "output_type": "execute_result"
    }
   ],
   "source": [
    "Tc_dt_2.duplicated().sum()"
   ]
  },
  {
   "cell_type": "code",
   "execution_count": null,
   "id": "64d04c4d",
   "metadata": {},
   "outputs": [],
   "source": []
  }
 ],
 "metadata": {
  "kernelspec": {
   "display_name": "Python 3 (ipykernel)",
   "language": "python",
   "name": "python3"
  },
  "language_info": {
   "codemirror_mode": {
    "name": "ipython",
    "version": 3
   },
   "file_extension": ".py",
   "mimetype": "text/x-python",
   "name": "python",
   "nbconvert_exporter": "python",
   "pygments_lexer": "ipython3",
   "version": "3.11.5"
  }
 },
 "nbformat": 4,
 "nbformat_minor": 5
}
