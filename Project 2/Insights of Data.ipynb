{
 "cells": [
  {
   "cell_type": "code",
   "execution_count": 7,
   "id": "baebcf49",
   "metadata": {
    "scrolled": true
   },
   "outputs": [],
   "source": [
    "import pandas as pd"
   ]
  },
  {
   "cell_type": "code",
   "execution_count": 8,
   "id": "376aa86c",
   "metadata": {
    "scrolled": true
   },
   "outputs": [
    {
     "name": "stdout",
     "output_type": "stream",
     "text": [
      "   customerID  gender  SeniorCitizen Partner Dependents  tenure PhoneService  \\\n",
      "0  7590-VHVEG  Female              0     Yes         No       1           No   \n",
      "1  5575-GNVDE    Male              0      No         No      34          Yes   \n",
      "2  3668-QPYBK    Male              0      No         No       2          Yes   \n",
      "3  7795-CFOCW    Male              0      No         No      45           No   \n",
      "4  9237-HQITU  Female              0      No         No       2          Yes   \n",
      "\n",
      "      MultipleLines InternetService OnlineSecurity  ... DeviceProtection  \\\n",
      "0  No phone service             DSL             No  ...               No   \n",
      "1                No             DSL            Yes  ...              Yes   \n",
      "2                No             DSL            Yes  ...               No   \n",
      "3  No phone service             DSL            Yes  ...              Yes   \n",
      "4                No     Fiber optic             No  ...               No   \n",
      "\n",
      "  TechSupport StreamingTV StreamingMovies        Contract PaperlessBilling  \\\n",
      "0          No          No              No  Month-to-month              Yes   \n",
      "1          No          No              No        One year               No   \n",
      "2          No          No              No  Month-to-month              Yes   \n",
      "3         Yes          No              No        One year               No   \n",
      "4          No          No              No  Month-to-month              Yes   \n",
      "\n",
      "               PaymentMethod MonthlyCharges  TotalCharges Churn  \n",
      "0           Electronic check          29.85         29.85    No  \n",
      "1               Mailed check          56.95        1889.5    No  \n",
      "2               Mailed check          53.85        108.15   Yes  \n",
      "3  Bank transfer (automatic)          42.30       1840.75    No  \n",
      "4           Electronic check          70.70        151.65   Yes  \n",
      "\n",
      "[5 rows x 21 columns]\n"
     ]
    }
   ],
   "source": [
    "file_path = 'WA_Fn-UseC_-Telco-Customer-Churn.csv'\n",
    "data = pd.read_csv(file_path)\n",
    " \n",
    "print(data.head())\n"
   ]
  },
  {
   "cell_type": "code",
   "execution_count": 9,
   "id": "945ca17b",
   "metadata": {
    "scrolled": true
   },
   "outputs": [
    {
     "name": "stdout",
     "output_type": "stream",
     "text": [
      "<class 'pandas.core.frame.DataFrame'>\n",
      "RangeIndex: 7043 entries, 0 to 7042\n",
      "Data columns (total 21 columns):\n",
      " #   Column            Non-Null Count  Dtype  \n",
      "---  ------            --------------  -----  \n",
      " 0   customerID        7043 non-null   object \n",
      " 1   gender            7043 non-null   object \n",
      " 2   SeniorCitizen     7043 non-null   int64  \n",
      " 3   Partner           7043 non-null   object \n",
      " 4   Dependents        7043 non-null   object \n",
      " 5   tenure            7043 non-null   int64  \n",
      " 6   PhoneService      7043 non-null   object \n",
      " 7   MultipleLines     7043 non-null   object \n",
      " 8   InternetService   7043 non-null   object \n",
      " 9   OnlineSecurity    7043 non-null   object \n",
      " 10  OnlineBackup      7043 non-null   object \n",
      " 11  DeviceProtection  7043 non-null   object \n",
      " 12  TechSupport       7043 non-null   object \n",
      " 13  StreamingTV       7043 non-null   object \n",
      " 14  StreamingMovies   7043 non-null   object \n",
      " 15  Contract          7043 non-null   object \n",
      " 16  PaperlessBilling  7043 non-null   object \n",
      " 17  PaymentMethod     7043 non-null   object \n",
      " 18  MonthlyCharges    7043 non-null   float64\n",
      " 19  TotalCharges      7043 non-null   object \n",
      " 20  Churn             7043 non-null   object \n",
      "dtypes: float64(1), int64(2), object(18)\n",
      "memory usage: 1.1+ MB\n",
      "None\n"
     ]
    }
   ],
   "source": [
    "print(data.info())"
   ]
  },
  {
   "cell_type": "code",
   "execution_count": 11,
   "id": "55d29ea7",
   "metadata": {},
   "outputs": [],
   "source": [
    "data['TotalCharges'] = pd.to_numeric(data['TotalCharges'], errors='coerce')\n",
    "\n",
    "data_cleaned = data.dropna(subset=['TotalCharges'])\n"
   ]
  },
  {
   "cell_type": "code",
   "execution_count": 12,
   "id": "b2db92c2",
   "metadata": {},
   "outputs": [
    {
     "name": "stdout",
     "output_type": "stream",
     "text": [
      "Churn\n",
      "No     73.421502\n",
      "Yes    26.578498\n",
      "Name: proportion, dtype: float64\n"
     ]
    }
   ],
   "source": [
    "churn_rate = data_cleaned['Churn'].value_counts(normalize=True) * 100\n",
    "print(churn_rate)\n"
   ]
  },
  {
   "cell_type": "code",
   "execution_count": 13,
   "id": "b35081cc",
   "metadata": {},
   "outputs": [
    {
     "name": "stdout",
     "output_type": "stream",
     "text": [
      "Churn          No        Yes\n",
      "gender                      \n",
      "Female  73.040482  26.959518\n",
      "Male    73.795435  26.204565\n"
     ]
    }
   ],
   "source": [
    "gender_churn = data_cleaned.groupby('gender')['Churn'].value_counts(normalize=True).unstack() * 100\n",
    "print(gender_churn)\n"
   ]
  },
  {
   "cell_type": "code",
   "execution_count": 14,
   "id": "88243c7c",
   "metadata": {},
   "outputs": [
    {
     "name": "stdout",
     "output_type": "stream",
     "text": [
      "Churn                 No        Yes\n",
      "SeniorCitizen                      \n",
      "0              76.349745  23.650255\n",
      "1              58.318739  41.681261\n"
     ]
    }
   ],
   "source": [
    "senior_churn = data_cleaned.groupby('SeniorCitizen')['Churn'].value_counts(normalize=True).unstack() * 100\n",
    "print(senior_churn)\n"
   ]
  },
  {
   "cell_type": "code",
   "execution_count": 15,
   "id": "c4266f80",
   "metadata": {},
   "outputs": [
    {
     "name": "stdout",
     "output_type": "stream",
     "text": [
      "Churn           No        Yes\n",
      "Partner                      \n",
      "No       67.023908  32.976092\n",
      "Yes      80.282935  19.717065\n",
      "Churn              No        Yes\n",
      "Dependents                      \n",
      "No          68.720860  31.279140\n",
      "Yes         84.468795  15.531205\n"
     ]
    }
   ],
   "source": [
    "partner_churn = data_cleaned.groupby('Partner')['Churn'].value_counts(normalize=True).unstack() * 100\n",
    "dependents_churn = data_cleaned.groupby('Dependents')['Churn'].value_counts(normalize=True).unstack() * 100\n",
    "print(partner_churn)\n",
    "print(dependents_churn)\n"
   ]
  },
  {
   "cell_type": "code",
   "execution_count": 16,
   "id": "bc7036e3",
   "metadata": {},
   "outputs": [
    {
     "name": "stdout",
     "output_type": "stream",
     "text": [
      "Churn                  No        Yes\n",
      "Contract                            \n",
      "Month-to-month  57.290323  42.709677\n",
      "One year        88.722826  11.277174\n",
      "Two year        97.151335   2.848665\n"
     ]
    }
   ],
   "source": [
    "contract_churn = data_cleaned.groupby('Contract')['Churn'].value_counts(normalize=True).unstack() * 100\n",
    "print(contract_churn)\n"
   ]
  },
  {
   "cell_type": "code",
   "execution_count": 17,
   "id": "941927ee",
   "metadata": {},
   "outputs": [
    {
     "name": "stdout",
     "output_type": "stream",
     "text": [
      "Churn                   No        Yes\n",
      "InternetService                      \n",
      "DSL              81.001656  18.998344\n",
      "Fiber optic      58.107235  41.892765\n",
      "No               92.565789   7.434211\n"
     ]
    }
   ],
   "source": [
    "internet_service_churn = data_cleaned.groupby('InternetService')['Churn'].value_counts(normalize=True).unstack() * 100\n",
    "print(internet_service_churn)\n"
   ]
  },
  {
   "cell_type": "code",
   "execution_count": 18,
   "id": "d096c127",
   "metadata": {},
   "outputs": [
    {
     "name": "stdout",
     "output_type": "stream",
     "text": [
      "Churn                No        Yes\n",
      "tenure_group                      \n",
      "0-12          52.321839  47.678161\n",
      "12-24         71.289062  28.710938\n",
      "24-48         79.611041  20.388959\n",
      "48-60         85.576923  14.423077\n",
      "60-72         93.390192   6.609808\n"
     ]
    },
    {
     "name": "stderr",
     "output_type": "stream",
     "text": [
      "C:\\Users\\HP\\AppData\\Local\\Temp\\ipykernel_63552\\1724116080.py:2: SettingWithCopyWarning: \n",
      "A value is trying to be set on a copy of a slice from a DataFrame.\n",
      "Try using .loc[row_indexer,col_indexer] = value instead\n",
      "\n",
      "See the caveats in the documentation: https://pandas.pydata.org/pandas-docs/stable/user_guide/indexing.html#returning-a-view-versus-a-copy\n",
      "  data_cleaned['tenure_group'] = pd.cut(data_cleaned['tenure'], bins=[0, 12, 24, 48, 60, 72], labels=['0-12', '12-24', '24-48', '48-60', '60-72'])\n"
     ]
    }
   ],
   "source": [
    "data_cleaned['tenure_group'] = pd.cut(data_cleaned['tenure'], bins=[0, 12, 24, 48, 60, 72], labels=['0-12', '12-24', '24-48', '48-60', '60-72'])\n",
    "\n",
    "tenure_churn = data_cleaned.groupby('tenure_group')['Churn'].value_counts(normalize=True).unstack() * 100\n",
    "print(tenure_churn)\n"
   ]
  },
  {
   "cell_type": "code",
   "execution_count": 19,
   "id": "6afe8208",
   "metadata": {},
   "outputs": [
    {
     "name": "stdout",
     "output_type": "stream",
     "text": [
      "Churn                             No        Yes\n",
      "PaymentMethod                                  \n",
      "Bank transfer (automatic)  83.268482  16.731518\n",
      "Credit card (automatic)    84.746877  15.253123\n",
      "Electronic check           54.714588  45.285412\n",
      "Mailed check               80.798005  19.201995\n"
     ]
    }
   ],
   "source": [
    "payment_method_churn = data_cleaned.groupby('PaymentMethod')['Churn'].value_counts(normalize=True).unstack() * 100\n",
    "print(payment_method_churn)\n"
   ]
  },
  {
   "cell_type": "code",
   "execution_count": 20,
   "id": "4d60fe65",
   "metadata": {},
   "outputs": [
    {
     "name": "stdout",
     "output_type": "stream",
     "text": [
      "Churn\n",
      "No     61.307408\n",
      "Yes    74.441332\n",
      "Name: MonthlyCharges, dtype: float64\n",
      "Churn\n",
      "No     2555.344141\n",
      "Yes    1531.796094\n",
      "Name: TotalCharges, dtype: float64\n"
     ]
    }
   ],
   "source": [
    "avg_monthly_charges = data_cleaned.groupby('Churn')['MonthlyCharges'].mean()\n",
    "avg_total_charges = data_cleaned.groupby('Churn')['TotalCharges'].mean()\n",
    "print(avg_monthly_charges)\n",
    "print(avg_total_charges)\n"
   ]
  },
  {
   "cell_type": "code",
   "execution_count": 21,
   "id": "0877a7c7",
   "metadata": {},
   "outputs": [
    {
     "name": "stdout",
     "output_type": "stream",
     "text": [
      "Churn                       No        Yes\n",
      "OnlineSecurity                           \n",
      "No                   58.221333  41.778667\n",
      "No internet service  92.565789   7.434211\n",
      "Yes                  85.359801  14.640199\n",
      "Churn                       No        Yes\n",
      "TechSupport                              \n",
      "No                   58.352535  41.647465\n",
      "No internet service  92.565789   7.434211\n",
      "Yes                  84.803922  15.196078\n",
      "Churn                       No        Yes\n",
      "StreamingTV                              \n",
      "No                   66.464934  33.535066\n",
      "No internet service  92.565789   7.434211\n",
      "Yes                  69.885313  30.114687\n"
     ]
    }
   ],
   "source": [
    "online_security_churn = data_cleaned.groupby('OnlineSecurity')['Churn'].value_counts(normalize=True).unstack() * 100\n",
    "tech_support_churn = data_cleaned.groupby('TechSupport')['Churn'].value_counts(normalize=True).unstack() * 100\n",
    "streaming_churn = data_cleaned.groupby('StreamingTV')['Churn'].value_counts(normalize=True).unstack() * 100\n",
    "print(online_security_churn)\n",
    "print(tech_support_churn)\n",
    "print(streaming_churn)\n"
   ]
  },
  {
   "cell_type": "code",
   "execution_count": null,
   "id": "8c695ecb",
   "metadata": {},
   "outputs": [],
   "source": []
  }
 ],
 "metadata": {
  "kernelspec": {
   "display_name": "Python 3 (ipykernel)",
   "language": "python",
   "name": "python3"
  },
  "language_info": {
   "codemirror_mode": {
    "name": "ipython",
    "version": 3
   },
   "file_extension": ".py",
   "mimetype": "text/x-python",
   "name": "python",
   "nbconvert_exporter": "python",
   "pygments_lexer": "ipython3",
   "version": "3.11.5"
  }
 },
 "nbformat": 4,
 "nbformat_minor": 5
}
